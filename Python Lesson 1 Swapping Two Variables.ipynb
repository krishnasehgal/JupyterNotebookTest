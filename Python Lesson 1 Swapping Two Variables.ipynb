{
 "cells": [
  {
   "cell_type": "code",
   "execution_count": 1,
   "metadata": {},
   "outputs": [
    {
     "name": "stdout",
     "output_type": "stream",
     "text": [
      "second string first string\n"
     ]
    }
   ],
   "source": [
    "'''Swapping Two Variables'''\n",
    "v1 = \"first string\"\n",
    "v2 = \"second string\"\n",
    "'''\n",
    "temp1 = v1\n",
    "temp2 = v2\n",
    "print(temp1, temp2)\n",
    "v1=temp2\n",
    "print(v1,v2)\n",
    "v2=temp1\n",
    "print(v1,v2)\n",
    "'''\n",
    "temp = v2\n",
    "v2 = v1\n",
    "v1 = temp\n",
    khugyugyfyfyfy
    "print(v1,v2)"
   ]
  }
 ],
 "metadata": {
  "kernelspec": {
   "display_name": "Python 3",
   "language": "python",
   "name": "python3"
  },
  "language_info": {
   "codemirror_mode": {
    "name": "ipython",
    "version": 3
   },
   "file_extension": ".py",
   "mimetype": "text/x-python",
   "name": "python",
   "nbconvert_exporter": "python",
   "pygments_lexer": "ipython3",
   "version": "3.6.5"
  }
 },
 "nbformat": 4,
 "nbformat_minor": 2
}
